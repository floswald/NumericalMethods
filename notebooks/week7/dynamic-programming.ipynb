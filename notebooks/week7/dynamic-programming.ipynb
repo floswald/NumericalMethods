{
 "cells": [
  {
   "cell_type": "markdown",
   "metadata": {
    "slideshow": {
     "slide_type": "slide"
    }
   },
   "source": [
    "# Numerical Dynamic Programming\n",
    " \n",
    "Florian Oswald, Sciences Po, 2021\n",
    "\n"
   ]
  },
  {
   "cell_type": "markdown",
   "metadata": {
    "slideshow": {
     "slide_type": "subslide"
    }
   },
   "source": [
    "\n",
    "## Intro\n",
    "\n",
    "* Numerical Dynamic Programming (DP) is widely used to solve dynamic models.\n",
    "* You are familiar with the technique from your core macro course.\n",
    "* We will illustrate some ways to solve dynamic programs.\n",
    "    1. Models with one discrete or continuous choice variable\n",
    "    1. Models with several choice variables\n",
    "\t1. Models with a discrete-continuous choice combination\n"
   ]
  },
  {
   "cell_type": "markdown",
   "metadata": {
    "slideshow": {
     "slide_type": "subslide"
    }
   },
   "source": [
    "* We will go through:\n",
    "\t1. Value Function Iteration (VFI)\n",
    "    1. Policy function iteration (PFI)\n",
    "    1. Projection Methods\n",
    "\t1. Endogenous Grid Method (EGM)\n",
    "\t1. Discrete Choice Endogenous Grid Method (DCEGM)"
   ]
  },
  {
   "cell_type": "markdown",
   "metadata": {
    "slideshow": {
     "slide_type": "subslide"
    }
   },
   "source": [
    "\n",
    "## Dynamic Programming Theory\n",
    "\n",
    "* Payoffs over time are \n",
    "\t$$U=\\sum_{t=1}^{\\infty}\\beta^{t}u\\left(s_{t},c_{t}\\right) $$\n",
    "\twhere $\\beta<1$ is a discount factor, $s_{t}$ is the state, $c_{t}$ is the control.\n",
    "\n",
    "* The state (vector) evolves as $s_{t+1}=h(s_{t},c_{t})$.\n",
    "* All past decisions are contained in $s_{t}$.\n",
    "\n",
    "### Assumptions\n",
    "\n",
    "* Let $c_{t}\\in C(s_{t}),s_{t}\\in S$ and assume $u$ is bounded in $(c,s)\\in C\\times S$.\n",
    "* Stationarity: neither payoff $u$ nor transition $h$ depend on time.\n",
    "* Write the problem as \n",
    "\t$$ v(s)=\\max_{s'\\in\\Gamma(s)}u(s,s')+\\beta v(s') $$\n",
    "* $\\Gamma(s)$ is the constraint set (or feasible set) for $s'$ when the current state is $s$\n",
    "\n",
    "### Existence\n",
    "\n",
    "**Theorem.** Assume that $u(s,s')$ is real-valued, continuous, and bounded, that $\\beta\\in(0,1)$, and that the constraint set $\\Gamma(s)$ is nonempty, compact, and continuous. Then there exists a unique function $v(s)$ that solves the above functional equation.\n",
    "\n",
    "**Proof.** [@stokeylucas] <cite data-cite=stokeylucas></cite> theoreom 4.6."
   ]
  },
  {
   "cell_type": "markdown",
   "metadata": {
    "slideshow": {
     "slide_type": "slide"
    }
   },
   "source": [
    "# Solution Methods\n",
    "\n",
    "## Value Function Iteration (VFI)\n",
    "\n",
    "* Find the fix point of the functional equation by iterating on it until the distance between consecutive iterations becomes small.\n",
    "* Motivated by the Bellman Operator, and it's characterization in the Continuous Mapping Theorem.\n",
    "\n",
    "\n",
    "\n"
   ]
  },
  {
   "cell_type": "markdown",
   "metadata": {
    "slideshow": {
     "slide_type": "subslide"
    }
   },
   "source": [
    "## Discrete DP VFI\n",
    "\n",
    "* Represents and solves the functional problem in $\\mathbb{R}$ on a finite set of grid points only.\n",
    "* Widely used method.\n",
    "\t* Simple (+)\n",
    "\t* Robust (+)\n",
    "\t* Slow (-)\n",
    "\t* Imprecise (-)\n",
    "* Precision depends on number of discretization points used. \n",
    "* High-dimensional problems are difficult to tackle with this method because of the curse of dimensionality."
   ]
  },
  {
   "cell_type": "markdown",
   "metadata": {
    "slideshow": {
     "slide_type": "subslide"
    }
   },
   "source": [
    "### Deterministic growth model with Discrete VFI\n",
    "\n",
    "* We have this theoretical model:\n",
    "\n",
    "$$\n",
    "\\begin{aligned}\n",
    "   V(k) &= \\max_{0<k'<f(k)} u(f(k) - k') + \\beta V(k')\\\\\n",
    "  f(k)  & = k^\\alpha\\\\\n",
    "  k_0   & \\text{given} \n",
    "\\end{aligned}\n",
    "$$\n",
    "\n",
    "* and we employ the followign numerical approximation:\n",
    "\t$$ V(k_i) = \\max_{i'=1,2,\\dots,n} u(f(k_i) - k_{i'}) + \\beta V(i') $$\n",
    "\n"
   ]
  },
  {
   "cell_type": "markdown",
   "metadata": {
    "slideshow": {
     "slide_type": "subslide"
    }
   },
   "source": [
    "* The iteration is then on successive iterates of $V$: The LHS gets updated in each iteration!\n",
    "\n",
    "$$\n",
    "\\begin{aligned}\n",
    "\tV^{r+1}(k_i) &= \\max_{i'=1,2,\\dots,n} u(f(k_i) - k_{i'}) + \\beta V^{r}(i') \\\\\n",
    "\tV^{r+2}(k_i) &= \\max_{i'=1,2,\\dots,n} u(f(k_i) - k_{i'}) + \\beta V^{r+1}(i') \\\\\n",
    "\t... & \n",
    "\\end{aligned}\n",
    "$$\n",
    "\n",
    "* And it stops at iteration $r$ if $d(V^{r},V^{r-1}) < \\text{tol}$\n",
    "* You choose a measure of *distance*, $d(\\cdot,\\cdot)$, and a level of tolerance.\n",
    "* $V^{r}$ is usually an *array*. So $d$ will be some kind of *norm*.\n",
    "* maximal absolute distance\n",
    "* mean squared distance"
   ]
  },
  {
   "cell_type": "markdown",
   "metadata": {
    "slideshow": {
     "slide_type": "subslide"
    }
   },
   "source": [
    "### Exercise 1: Implement discrete VFI\n",
    "\n",
    "## Checklist\n",
    "\n",
    "1. Set parameter values\n",
    "1. define a grid for state variable $k \\in [0,2]$\n",
    "1. initialize value function $V$\n",
    "1. start iteration, repeatedly computing a new version of $V$.\n",
    "1. stop if $d(V^{r},V^{r-1}) < \\text{tol}$.\n",
    "1. plot value and policy function \n",
    "1. report the maximum error of both wrt to analytic solution"
   ]
  },
  {
   "cell_type": "code",
   "execution_count": null,
   "metadata": {
    "attributes": {
     "classes": [
      "julia"
     ],
     "id": ""
    },
    "slideshow": {
     "slide_type": "subslide"
    }
   },
   "outputs": [],
   "source": [
    "alpha     = 0.65\n",
    "beta      = 0.95\n",
    "grid_max  = 2  # upper bound of capital grid\n",
    "n         = 150  # number of grid points\n",
    "N_iter    = 3000  # number of iterations\n",
    "kgrid     = 1e-2:(grid_max-1e-2)/(n-1):grid_max  # equispaced grid\n",
    "f(x) = x^alpha  # defines the production function f(k)\n",
    "tol = 1e-9\n"
   ]
  },
  {
   "cell_type": "markdown",
   "metadata": {
    "slideshow": {
     "slide_type": "subslide"
    }
   },
   "source": [
    "## Analytic Solution\n",
    "\n",
    "* If we choose $u(x)=\\ln(x)$, the problem has a closed form solution.\n",
    "* We can use this to check accuracy of our solution."
   ]
  },
  {
   "cell_type": "code",
   "execution_count": null,
   "metadata": {
    "attributes": {
     "classes": [
      "julia"
     ],
     "id": ""
    },
    "slideshow": {
     "slide_type": "subslide"
    }
   },
   "outputs": [],
   "source": [
    "ab        = alpha * beta\n",
    "c1        = (log(1 - ab) + log(ab) * ab / (1 - ab)) / (1 - beta)\n",
    "c2        = alpha / (1 - ab)\n",
    "# optimal analytical values\n",
    "v_star(k) = c1 .+ c2 .* log.(k)  \n",
    "k_star(k) = ab * k.^alpha   \n",
    "c_star(k) = (1-ab) * k.^alpha  \n",
    "ufun(x) = log.(x)"
   ]
  },
  {
   "cell_type": "code",
   "execution_count": null,
   "metadata": {},
   "outputs": [],
   "source": [
    "kgrid[4]"
   ]
  },
  {
   "cell_type": "code",
   "execution_count": null,
   "metadata": {
    "slideshow": {
     "slide_type": "subslide"
    }
   },
   "outputs": [],
   "source": [
    "# Bellman Operator\n",
    "# inputs\n",
    "# `grid`: grid of values of state variable\n",
    "# `v0`: current guess of value function\n",
    "\n",
    "# output\n",
    "# `v1`: next guess of value function\n",
    "# `pol`: corresponding policy function \n",
    "\n",
    "#takes a grid of state variables and computes the next iterate of the value function.\n",
    "function bellman_operator(grid,v0)\n",
    "    \n",
    "    v1  = zeros(n)     # next guess\n",
    "    pol = zeros(Int,n)     # policy function\n",
    "    w   = zeros(n)   # temporary vector \n",
    "\n",
    "    # loop over current states\n",
    "    # current capital\n",
    "    for (i,k) in enumerate(grid)\n",
    "\n",
    "        # loop over all possible kprime choices\n",
    "        for (iprime,kprime) in enumerate(grid)\n",
    "            if f(k) - kprime < 0   #check for negative consumption\n",
    "                w[iprime] = -Inf\n",
    "            else\n",
    "                w[iprime] = ufun(f(k) - kprime) + beta * v0[iprime]\n",
    "            end\n",
    "        end\n",
    "        # find maximal choice\n",
    "        v1[i], pol[i] = findmax(w)     # stores Value und policy (index of optimal choice)\n",
    "    end\n",
    "    return (v1,pol)   # return both value and policy function\n",
    "end\n",
    "\n",
    "\n",
    "\n",
    "# VFI iterator\n",
    "#\n",
    "## input\n",
    "# `n`: number of grid points\n",
    "# output\n",
    "# `v_next`: tuple with value and policy functions after `n` iterations.\n",
    "function VFI()\n",
    "    v_init = zeros(n)     # initial guess\n",
    "    for iter in 1:N_iter\n",
    "        v_next = bellman_operator(kgrid,v_init)  # returns a tuple: (v1,pol)\n",
    "        # check convergence\n",
    "        if maximum(abs,v_init.-v_next[1]) < tol\n",
    "            verrors = maximum(abs,v_next[1].-v_star(kgrid))\n",
    "            perrors = maximum(abs,kgrid[v_next[2]].-k_star(kgrid))\n",
    "            println(\"Found solution after $iter iterations\")\n",
    "            println(\"maximal value function error = $verrors\")\n",
    "            println(\"maximal policy function error = $perrors\")\n",
    "            return v_next\n",
    "        elseif iter==N_iter\n",
    "            warn(\"No solution found after $iter iterations\")\n",
    "            return v_next\n",
    "        end\n",
    "        v_init = v_next[1]  # update guess \n",
    "    end\n",
    "end\n",
    "\n",
    "# plot\n",
    "using Plots\n",
    "function plotVFI()\n",
    "    v = VFI()\n",
    "    p = Any[]\n",
    "    \n",
    "    # value and policy functions\n",
    "    push!(p,plot(kgrid,v[1],\n",
    "            lab=\"V\",\n",
    "            ylim=(-50,-30),legend=:bottomright),\n",
    "            plot(kgrid,kgrid[v[2]],\n",
    "            lab=\"policy\",legend=:bottomright))\n",
    "    \n",
    "    # errors of both\n",
    "    push!(p,plot(kgrid,v[1].-v_star(kgrid),\n",
    "        lab=\"V error\",legend=:bottomright),\n",
    "        plot(kgrid,kgrid[v[2]].-k_star(kgrid),\n",
    "        lab=\"policy error\",legend=:bottomright))\n",
    "\n",
    "    plot(p...,layout=grid(2,2) )\n",
    "    \n",
    "end\n",
    "\n",
    "plotVFI()"
   ]
  },
  {
   "cell_type": "markdown",
   "metadata": {
    "slideshow": {
     "slide_type": "subslide"
    }
   },
   "source": [
    "### Exercise 2: Discretizing only the state space (not control space)\n",
    "\n",
    "* Same exercise, but now use a continuous solver for choice of $k'$.\n",
    "* in other words, employ the following numerical approximation:\n",
    "\t$$ V(k_i) = \\max_{k'\\in[0,\\bar{k}]} \\ln(f(k_i) - k') + \\beta V(k') $$\n",
    "* To do this, you need to be able to evaluate $V(k')$ where $k'$ is potentially off the `kgrid`.\n",
    "* use `Interpolations.jl` to linearly interpolate V.\n",
    "    * the relevant object is setup with function `interpolate((grid,),v,Gridded(Linear()))`\n",
    "* use `Optim::optimize()` to perform the maximization.\n",
    "    * you have to define an ojbective function for each $k_i$\n",
    "    * do something like `optimize(objective, lb,ub)` "
   ]
  },
  {
   "cell_type": "code",
   "execution_count": null,
   "metadata": {},
   "outputs": [],
   "source": [
    "kgrid"
   ]
  },
  {
   "cell_type": "code",
   "execution_count": null,
   "metadata": {
    "attributes": {
     "classes": [
      "julia"
     ],
     "id": ""
    },
    "slideshow": {
     "slide_type": "subslide"
    }
   },
   "outputs": [],
   "source": [
    "using Interpolations\n",
    "using Optim\n",
    "function bellman_operator2(grid,v0)\n",
    "    \n",
    "    v1  = zeros(n)     # next guess\n",
    "    pol = zeros(n)     # consumption policy function\n",
    "\n",
    "    Interp = interpolate((collect(grid),), v0, Gridded(Linear()) ) \n",
    "    Interp = extrapolate(Interp,Interpolations.Flat())\n",
    "\n",
    "    # loop over current states\n",
    "    # of current capital\n",
    "    for (i,k) in enumerate(grid)\n",
    "\n",
    "        objective(c) = - (log.(c) + beta * Interp(f(k) - c))\n",
    "        # find max of ojbective between [0,k^alpha]\n",
    "        res = optimize(objective, 1e-6, f(k))  # Optim.jl\n",
    "        pol[i] = f(k) - res.minimizer   # k'\n",
    "        v1[i] = -res.minimum\n",
    "    end\n",
    "    return (v1,pol)   # return both value and policy function\n",
    "end\n",
    "\n",
    "function VFI2()\n",
    "    v_init = zeros(n)     # initial guess\n",
    "    for iter in 1:N_iter\n",
    "        v_next = bellman_operator2(kgrid,v_init)  # returns a tuple: (v1,pol)\n",
    "        # check convergence\n",
    "        if maximum(abs,v_init.-v_next[1]) < tol\n",
    "            verrors = maximum(abs,v_next[1].-v_star(kgrid))\n",
    "            perrors = maximum(abs,v_next[2].-k_star(kgrid))\n",
    "            println(\"continuous VFI:\")\n",
    "            println(\"Found solution after $iter iterations\")\n",
    "            println(\"maximal value function error = $verrors\")\n",
    "            println(\"maximal policy function error = $perrors\")\n",
    "            return v_next\n",
    "        elseif iter==N_iter\n",
    "            warn(\"No solution found after $iter iterations\")\n",
    "            return v_next\n",
    "        end\n",
    "        v_init = v_next[1]  # update guess \n",
    "    end\n",
    "    return nothing\n",
    "end\n",
    "\n",
    "function plotVFI2()\n",
    "    v = VFI2()\n",
    "    p = Any[]\n",
    "    \n",
    "    # value and policy functions\n",
    "    push!(p,plot(kgrid,v[1],\n",
    "            lab=\"V\",\n",
    "            ylim=(-50,-30),legend=:bottomright),\n",
    "            plot(kgrid,v[2],\n",
    "            lab=\"policy\",legend=:bottomright))\n",
    "    \n",
    "    # errors of both\n",
    "    push!(p,plot(kgrid,v[1].-v_star(kgrid),\n",
    "        lab=\"V error\",legend=:bottomright),\n",
    "        plot(kgrid,v[2].-k_star(kgrid),\n",
    "        lab=\"policy error\",legend=:bottomright))\n",
    "\n",
    "    plot(p...,layout=grid(2,2) )\n",
    "    \n",
    "end\n",
    "\n",
    "plotVFI2()"
   ]
  },
  {
   "cell_type": "markdown",
   "metadata": {
    "slideshow": {
     "slide_type": "slide"
    }
   },
   "source": [
    "## Policy Function Iteration\n",
    "\n",
    "* This is similar to VFI but we now guess successive *policy* functions\n",
    "* The idea is to choose a new policy $p^*$ in each iteration so as to satisfy an optimality condition. In our example, that would be the Euler Equation.\n",
    "* We know that the solution to the above problem is a function $c^*(k)$ such that\n",
    "\n",
    "$$ \n",
    "   c^*(k) = \\arg \\max_z u(z) + \\beta V(f(k)-z) \\text{  }\\forall k\\in[0,\\infty]\n",
    "$$\n",
    "\n",
    "* We **don't** directly solve the maximiation problem outlined above, but it's first order condition:\n",
    "\n",
    "$$\n",
    "\\begin{aligned}\n",
    "u'(c^*(k_t)) & = \\beta u'(c^*(k_{t+1})) f'(k_{t+1}) \\\\\n",
    "             & = \\beta u'[c^*(f(k_{t})-c^*(k_t))] f'(f(k_{t})-c^*(k_t)) \n",
    "\\end{aligned}\n",
    "$$\n",
    "\n",
    "* In practice, we have to find the zeros of\n",
    "\n",
    "$$\n",
    "g(k_t) = u'(c^*(k_t)) - \\beta u'[c^*(f(k_{t})-c^*(k_t))] f'(f(k_{t})-c^*(k_t)) \n",
    "$$"
   ]
  },
  {
   "cell_type": "code",
   "execution_count": null,
   "metadata": {
    "slideshow": {
     "slide_type": "subslide"
    }
   },
   "outputs": [],
   "source": [
    "# Your turn!\n",
    "\n",
    "\n",
    "    using Roots\n",
    "    function policy_iter(grid,c0,u_prime,f_prime)\n",
    "\n",
    "        c1  = zeros(length(grid))     # next guess\n",
    "        pol_fun = extrapolate(interpolate((collect(grid),), c0, Gridded(Linear()) ) , Interpolations.Flat())\n",
    "\n",
    "\n",
    "        # loop over current states\n",
    "        # of current capital\n",
    "        for (i,k) in enumerate(grid)\n",
    "            objective(c) = u_prime(c) - beta * u_prime(pol_fun(f(k)-c)) * f_prime(f(k)-c)\n",
    "            c1[i] = fzero(objective, 1e-10, f(k)-1e-10) \n",
    "        end\n",
    "        return c1\n",
    "    end\n",
    "\n",
    "    uprime(x) = 1.0 ./ x\n",
    "fprime(x) = alpha * x.^(alpha-1)\n",
    "\n",
    "function PFI()\n",
    "    c_init = kgrid\n",
    "    for iter in 1:N_iter\n",
    "        c_next = policy_iter(kgrid,c_init,uprime,fprime)  \n",
    "        # check convergence\n",
    "        if maximum(abs,c_init.-c_next) < tol\n",
    "            perrors =  maximum(abs,c_next.-c_star(kgrid))\n",
    "            println(\"PFI:\")\n",
    "            println(\"Found solution after $iter iterations\")\n",
    "            println(\"max policy function error = $perrors\")\n",
    "            return c_next\n",
    "        elseif iter==N_iter\n",
    "            warn(\"No solution found after $iter iterations\")\n",
    "            return c_next\n",
    "        end\n",
    "        c_init = c_next  # update guess \n",
    "    end\n",
    "end\n",
    "function plotPFI()\n",
    "    v = PFI()\n",
    "    plot(kgrid,[v v.-c_star(kgrid)],\n",
    "            lab=[\"policy\" \"error\"],\n",
    "            legend=:bottomright,\n",
    "            layout = 2)\n",
    "end\n",
    "plotPFI()\n",
    " "
   ]
  },
  {
   "cell_type": "markdown",
   "metadata": {
    "slideshow": {
     "slide_type": "slide"
    }
   },
   "source": [
    "# Projection Methods\n",
    "\n",
    "* Many applications require us to solve for an *unknown function*\n",
    "    * ODEs, PDEs\n",
    "    * Pricing functions in asset pricing models\n",
    "    * Consumption/Investment policy functions\n",
    "* Projection methods find approximations to those functions that set an error function close to zero."
   ]
  },
  {
   "cell_type": "markdown",
   "metadata": {
    "slideshow": {
     "slide_type": "subslide"
    }
   },
   "source": [
    "## Example: Growth, again\n",
    "\n",
    "* We stick to our working example from above.\n",
    "* We encountered the Euler Equation $g$ for optimality.\n",
    "* At the true consumption function $c^*$, $g(k) = 0$.\n",
    "* We define the following function operator:\n",
    "\n",
    "\n",
    "$$\n",
    "\\begin{aligned}\n",
    "0 & = u'(c^*(k)) - \\beta u'[c^*(f(k)-c^*(k))] f'(f(k)-c^*(k)) \\\\\n",
    " & \\equiv (\\mathcal{N(c^*)})(k)\n",
    "\\end{aligned}\n",
    "$$\n",
    "\n",
    "* The Equilibrium solves the operator equation\n",
    "$$\n",
    "0 = \\mathcal{N}(c^*)\n",
    "$$"
   ]
  },
  {
   "cell_type": "markdown",
   "metadata": {
    "slideshow": {
     "slide_type": "subslide"
    }
   },
   "source": [
    "### Projection Method example\n",
    "\n",
    "1. create an approximation to $c^*$: \n",
    "    find \n",
    "    $$\n",
    "    \\bar{c} \\equiv \\sum_{i=0}^n a_i k^i\n",
    "    $$\n",
    "    \n",
    "    which nearly solves \n",
    "    \n",
    "    $$\\mathcal{N}(c^*)=0\n",
    "    $$\n",
    "2. Compute Euler equation error function:\n",
    "    $$ g(k;a) = u'(\\bar{c}(k)) - \\beta u'[\\bar{c}(f(k)-\\bar{c}(k))] f'(f(k)-\\bar{c}(k))$$\n",
    "3. Choose $a$ to make $g(k;a)$ small in some sense"
   ]
  },
  {
   "cell_type": "markdown",
   "metadata": {
    "slideshow": {
     "slide_type": "subslide"
    }
   },
   "source": [
    "What's *small in some sense*?\n",
    "\n",
    "* Least-squares: minimize sum of squared errors\n",
    "$$\n",
    "\\min_a \\int g(k;a)^2 dk\n",
    "$$\n",
    "* Galerkin: zero out weighted averages of Euler errors\n",
    "* Collocation: zero out Euler equation errors at grid $k\\in\\{k_1,\\dots,k_n\\}$:\n",
    "$$\n",
    "P_i(a) \\equiv g(k_i;a) = 0, i=1,\\dots,n\n",
    "$$"
   ]
  },
  {
   "cell_type": "markdown",
   "metadata": {
    "slideshow": {
     "slide_type": "subslide"
    }
   },
   "source": [
    "### General Projection Method\n",
    "\n",
    "1. Express solution in terms of unknown function\n",
    "$$\n",
    " \\mathcal{N}(h)=0\n",
    " $$\n",
    " where $h(x)$ is the equilibrium function at state $x$\n",
    "1. Choose a space for appximation\n",
    "1. Find $\\bar{h}$ which nearly solves $$ \\mathcal{N}(\\bar{h})=0$$"
   ]
  },
  {
   "cell_type": "markdown",
   "metadata": {
    "slideshow": {
     "slide_type": "subslide"
    }
   },
   "source": [
    "### Projection method exercise\n",
    "\n",
    "* suppose we want to find effective supply of an oligopolistic firm in cournot competition.\n",
    "* We want to know $q = S(p)$, how much is supplied at each price $p$.\n",
    "* This function is characterized as\n",
    "\n",
    "$$\n",
    "p + \\frac{S(p)}{D'(p)} - MC(S(p)) = 0,\\forall p>0\n",
    "$$\n",
    "\n",
    "* Take $D(p) = p^{-\\eta}$ and $MC(q) = \\alpha \\sqrt{q} + q^2$.\n",
    "* Our task is to solve for $S(p)$ in \n",
    "\n",
    "$$\n",
    "p - \\frac{S(p)p^{\\eta+1}}{\\eta} - \\alpha \\sqrt{S(p)} - S(p)^2 = 0,\\forall p>0\n",
    "$$\n",
    "\n",
    "* No closed form solution. But collocation works!\n",
    "\n",
    "#### TASK\n",
    "\n",
    "1. solve for $S(p)$ by collocation\n",
    "2. Plot residual function\n",
    "3. Plot resulting $mS(p)$ together with market demand and $m=1,10,20$ for market size."
   ]
  },
  {
   "cell_type": "code",
   "execution_count": null,
   "metadata": {
    "slideshow": {
     "slide_type": "subslide"
    }
   },
   "outputs": [],
   "source": [
    "using CompEcon\n",
    "using Plots\n",
    "using NLsolve\n",
    "function proj(n=25)\n",
    "\n",
    "    alpha = 1.0\n",
    "    eta   = 1.5\n",
    "    a     = 0.1\n",
    "    b     = 3.0\n",
    "    basis = fundefn(:cheb,n,a,b)\n",
    "    p     = funnode(basis)[1]   # collocation points\n",
    "\n",
    "    c0 = ones(n)*0.3\n",
    "    function resid!(c::Vector,result::Vector,p,basis,alpha,eta)\n",
    "        # your turn!\n",
    "        q = funeval(c,basis,p)[1]\n",
    "        q2 = similar(q)\n",
    "        for i in eachindex(q2)\n",
    "            if q[i] < 0\n",
    "                q2[i] = -20.0\n",
    "            else\n",
    "                q2[i] = sqrt(q[i])\n",
    "            end\n",
    "        end\n",
    "        result[:] = p.+ q .*((-1/eta)*p.^(eta+1)) .- alpha*q2 .- q.^2\n",
    "    end\n",
    "    f_closure(r::Vector,x::Vector) = resid!(x,r,p,basis,alpha,eta)\n",
    "    res = nlsolve(f_closure,c0)\n",
    "    println(res)\n",
    "\n",
    "    # plot residual function\n",
    "     x = collect(range(a, stop = b, length = 501))\n",
    "    y = similar(x)\n",
    "    resid!(res.zero,y,x,basis,alpha,eta);\n",
    "    y = funeval(res.zero,basis,x)[1]\n",
    "    pl = Any[]\n",
    "    push!(pl,plot(x,y,title=\"residual function\"))\n",
    "    \n",
    "    # plot supply functions at levels 1,10,20\n",
    "    \n",
    "    # plot demand function\n",
    "    y = funeval(res.zero,basis,x)[1]\n",
    "    p2 = plot(y,x,label=\"supply 1\")\n",
    "    plot!(10*y,x,label=\"supply 10\")\n",
    "    plot!(20*y,x,label=\"supply 20\")\n",
    "    d = x.^(-eta)\n",
    "    plot!(d,x,label=\"Demand\")\n",
    "\n",
    "    push!(pl,p2)\n",
    "    \n",
    "    plot(pl...,layout=2)\n",
    "    \n",
    "end\n",
    "proj()"
   ]
  },
  {
   "cell_type": "markdown",
   "metadata": {
    "slideshow": {
     "slide_type": "slide"
    }
   },
   "source": [
    "# Endogenous Grid Method (EGM)\n",
    "\n",
    "* Fast, elegant and precise method to solve consumption/savings problems\n",
    "* One continuous state variable\n",
    "* One continuous control variable\n",
    "    $$V(M_t) = \\max_{0<c<M_t} u(c) + \\beta E V_{t+1}(R (M_t - c) + y_{t+1})$$\n",
    "* Here, $M_t$ is cash in hand, all available resources at the start of period $t$\n",
    "    * For example, assets plus income.\n",
    "* $A_t = M_t - c_t$ is end of period assets\n",
    "* $y_{t+1}$ is stochastic next period income.\n",
    "* $R$ is the gross return on savings, i.e. $R=1+r$.\n",
    "* utility function can be of many forms, we only require twice differentiable and concave."
   ]
  },
  {
   "cell_type": "markdown",
   "metadata": {
    "slideshow": {
     "slide_type": "subslide"
    }
   },
   "source": [
    "## EGM after [@carroll2006method]\n",
    "\n",
    "* [@carroll2006method] <cite data-cite=carroll2006method></cite> introduced this method.\n",
    "* The idea is as follows:\n",
    "    * Instead of using non-linear root finding for optimal $c$ (see above)\n",
    "    * fix a grid of possible end-of-period asset levels $A_t$\n",
    "    * use structure of model to find implied beginning of period cash in hand.\n",
    "    * We use euler equation and envelope condition to connect $M_{t+1}$ with $c_t$"
   ]
  },
  {
   "cell_type": "markdown",
   "metadata": {
    "slideshow": {
     "slide_type": "subslide"
    }
   },
   "source": [
    "### Recall Traditional Methods: VFI and Euler Equation \n",
    "\n",
    "* Just to be clear, let us repeat what we did in the beginning of this lecture, using the $M_t$ notation.\n",
    "    $$\n",
    "    \\begin{aligned}\n",
    "    V(M_t) &= \\max_{0<c<M_t} u(c) + \\beta E V_{t+1}(R (M_t - c) + y_{t+1}) \\\\\n",
    "    M_{t+1} &= R (M_t - c) + y_{t+1} \n",
    "    \\end{aligned}\n",
    "    $$\n",
    "\n",
    "### VFI\n",
    "\n",
    "1. Define a grid over $M_t$.\n",
    "2. In the final period, compute\n",
    "    $$V_T(M_T) = \\max_{0<c<M_t} u(c)$$\n",
    "3. In all preceding periods $t$, do\n",
    "    $$V_t(M_t) =  \\max_{0<c_t<M_t} u(c_t) + \\beta E V_{t+1}(R (M_t - c_t) + y_{t+1})$$\n",
    "4. where optimal consumption is\n",
    "    $$c_t^*(M_t) = \\arg \\max_{0<c_t<M_t} u(c_t) + \\beta E V_{t+1}(R (M_t - c_t) + y_{t+1})$$\n",
    "\n"
   ]
  },
  {
   "cell_type": "markdown",
   "metadata": {
    "slideshow": {
     "slide_type": "subslide"
    }
   },
   "source": [
    "### Euler Equation\n",
    "\n",
    "* The first order condition of the Bellman Equation is\n",
    "    $$ \n",
    "    \\begin{aligned}\n",
    "    \\frac{\\partial V_t}{\\partial c_t} & = 0 \\\\\n",
    "    u'(c_t) & = \\beta E \\left[\\frac{\\partial V_{t+1} (M_{t+1}) }{\\partial M_{t+1}} \\right] \\quad (FOC)\n",
    "    \\end{aligned}\n",
    "    $$\n",
    "* By the Envelope Theorem, we have that\n",
    "    $$ \n",
    "    \\begin{aligned}\n",
    "    \\frac{\\partial V_t}{\\partial M_t} & = \\beta E \\left[\\frac{\\partial V_{t+1} (M_{t+1}) }{\\partial M_{t+1}} \\right] \\\\\n",
    "    \\text{by FOC} &  \\\\\n",
    "    \\frac{\\partial V_t}{\\partial M_t} & = u'(c_t) \\\\\n",
    "    \\text{true in every period:} & \\\\\n",
    "    \\frac{\\partial V_{t+1}}{\\partial M_{t+1}} & = u'(c_{t+1}) \n",
    "    \\end{aligned}\n",
    "    $$\n",
    "* Summing up, we get the Euler Equation:\n",
    "    $$ u'(c_t) = \\beta E \\left[u'(c_{t+1}) R \\right] $$"
   ]
  },
  {
   "cell_type": "markdown",
   "metadata": {
    "slideshow": {
     "slide_type": "subslide"
    }
   },
   "source": [
    "### Euler Equation Algorithm\n",
    "\n",
    "1. Fix grid over $M_t$\n",
    "1. In the final period, compute\n",
    "    $$c_T^*(M_T) = \\arg\\max_{0<cT<M_t} u(c_T)$$\n",
    "1. With optimal $c_{t+1}^*(M_{t+1})$ in hand, backward recurse to find $c_t$ from\n",
    "    $$u'(c_t) = \\beta E \\left[u'(c_{t+1}^*(R (M_t - c_t) + y_{t+1}) ) R \\right]$$\n",
    "1. Notice that if $M_t$ is small, the euler equation does not hold.\n",
    "    * In fact, the euler equation would prescribe to *borrow*, i.e. set $M_t <0$. This is ruled out.\n",
    "    * So, one needs to tweak this algorithm to check for this possibility\n",
    "1. Homework.\n",
    "\n"
   ]
  },
  {
   "cell_type": "markdown",
   "metadata": {
    "slideshow": {
     "slide_type": "subslide"
    }
   },
   "source": [
    "## The EGM Algorithm\n",
    "\n",
    "Starts in period $T$ with $c_T^* = M_T$. For all preceding periods:\n",
    "\n",
    "1. Fix a grid of *end-of-period* assets $A_t$\n",
    "1. Compute all possible next period cash-in-hand holdings $M_{t+1}$\n",
    "    $$ M_{t+1} = R * A_t + y_{t+1} $$\n",
    "    * for example, if there are $n$ values in $A_t$ and $m$ values for $y_{t+1}$, we have $dim(M_{t+1}) = (n,m)$\n",
    "1. Given that we know optimal policy in $t+1$, use it to get consumption at each $M_{t+1}$\n",
    "    $$ c_{t+1}^* (M_{t+1}) $$\n",
    "1. Invert the Euler Equation to get current consumption compliant with an expected level of cash-on-hand, given $A_t$\n",
    "    $$ c_{t} = (u')^{-1} \\left( \\beta E \\left[u'(c_{t+1}^*(M_{t+1}) ) R |A_t \\right]  \\right) $$\n",
    "1. Current period *endogenous* cash on hand just obeys the accounting relation\n",
    "    $$ M_t = c_t + A_t $$\n",
    "\n"
   ]
  },
  {
   "cell_type": "code",
   "execution_count": null,
   "metadata": {
    "slideshow": {
     "slide_type": "subslide"
    }
   },
   "outputs": [],
   "source": [
    "# minimal EGM implementation, go here: https://github.com/floswald/DCEGM.jl/blob/master/src/dc_algo.jl#L4\n",
    "# try out: \n",
    "# ] dev https://github.com/floswald/DCEGM.jl\n",
    "using DCEGM\n",
    "DCEGM.minimal_EGM(dplot = true);"
   ]
  },
  {
   "cell_type": "markdown",
   "metadata": {
    "slideshow": {
     "slide_type": "slide"
    }
   },
   "source": [
    "\n",
    "\n",
    "## Discrete Choice EGM\n",
    "\n",
    "* This is a method developed by Fedor Iskhakov, Thomas Jorgensen, John Rust and Bertel Schjerning.\n",
    "* Reference: [@iskhakovRust2014] <cite data-cite=iskhakovRust2014></cite>\n",
    "* Suppose we have several discrete choices (like \"work/retire\"), combined with a continuous choice in each case (like \"how much to consume given work/retire\").\n",
    "* Let $d=0$ mean to retire.\n",
    "* Write the problem of a worker as\n",
    "\n",
    "$$\n",
    "\\begin{aligned}\n",
    "V_t(M_t) & = \\max \\left[ v_t(M_t|d_t=0), v_t(M_t|d_t=1) \\right] \\\\\n",
    " &  \\text{with}\\\\\n",
    "v_t(M_t|d_t=0) & = \\max_{0<c_t<M_t} u(c_t) + \\beta E W_{t+1}(R (M_t - c_t)) \\\\\n",
    "v_t(M_t|d_t=1) & = \\max_{0<c_t<M_t} u(c_t) -1 + \\beta E V_{t+1}(R (M_t - c_t) + y_{t+1}) \n",
    "\\end{aligned}\n",
    "$$\n",
    "\n",
    "* The problem of a retiree is\n",
    "\n",
    "$$\n",
    "W_t(M_t) = \\max_{0<c_t<M_t} u(c_t) + \\beta E W_{t+1}(R (M_t - c_t))\n",
    "$$\n",
    "    \n",
    "* Our task is to compute the optimal consumption functions $c_t^*(M_t|d_t=0)$, $c_t^*(M_t|d_t=1)$"
   ]
  },
  {
   "cell_type": "markdown",
   "metadata": {
    "slideshow": {
     "slide_type": "subslide"
    }
   },
   "source": [
    "### Problems with Discrete-Continuous Choice\n",
    "\n",
    "* Even if all conditional value functions $v$ are concave, the *envelope* over them, $V$, is in general not.\n",
    "* [@clausenenvelope] <cite data-cite=clausenenvelope></cite>show that there will be a kink point $\\bar{M}$ such that \n",
    "    $$ v_t(\\bar{M}|d_t=0) = v_t(\\bar{M}|d_t=1) $$\n",
    "    * We call any such point a **primary kink** (because it refers to a discrete choice in the **current period**)\n",
    "* $V$ is not differentiable at $\\bar{M}$.\n",
    "* However, it can be shown that both left and right derivatives exist, with\n",
    "    $$ V^-(\\bar{M}) < V^+(\\bar{M}) $$\n",
    "* Given that the value of the derivative changes discretely at $\\bar{M_t}$, the value function in $t-1$ will exhibit a discontinuity as well:\n",
    "    * $v_{t-1}$ depends on $V_t$.\n",
    "    * Tracing out the optimal choice of $c_{t-1}$ implies next period cash on hand $M_t$, and as that hits $\\bar{M_t}$, the derivative jumps.\n",
    "    * The derivative of the value function determines optimal behaviour via the Euler Equation.\n",
    "    * We call a discontinuity in $v_{t-1}$ arising from a kink in $V_t$ a **secondary kink**.\n",
    "* The kinks propagate backwards. "
   ]
  },
  {
   "cell_type": "markdown",
   "metadata": {
    "slideshow": {
     "slide_type": "subslide"
    }
   },
   "source": [
    "\n",
    "\n",
    "* [@iskhakovRust2014] <cite data-cite=iskhakovRust2014></cite> provide an analytic example where one can compute the actual number of kinks in period 1 of T.\n",
    "* Figure 1 in [@clausenenvelope]:\n",
    "\n",
    "<img src=\"../assets/figs/clausen-struub.png\" width=\"1200\" height=\"500\"/>\n",
    "\n",
    "![[@iskhakovRust2014] figure 1](../assets/figs/fedor-1.png)\n",
    "\n",
    "\n"
   ]
  },
  {
   "cell_type": "markdown",
   "metadata": {},
   "source": [
    "### Kinks\n",
    "\n",
    "* Refer back to the work/retirement model from before.\n",
    "* 6 period implementation of the DC-EGM method:\n",
    "\n",
    "![github/floswald](../assets/figs/Dchoice_condV.png)\n",
    "\n",
    "* [Iskhakov @ cemmap 2015: Value functions in T-1](http://www.cemmap.ac.uk/event/id/1213)\n",
    "<img src=\"../assets/figs/fedor-3.png\" width=\"900\" height=\"500\"/>\n",
    "\n",
    "\n",
    "* [Iskhakov @ cemmap 2015: Value functions in T-2](http://www.cemmap.ac.uk/event/id/1213)\n",
    "<img src=\"../assets/figs/fedor-4.png\" width=\"900\" height=\"500\"/>\n",
    "\n",
    "* [Iskhakov @ cemmap 2015: Consumption function in T-2](http://www.cemmap.ac.uk/event/id/1213)\n",
    "<img src=\"../assets/figs/fedor-5.png\" width=\"900\" height=\"500\"/>\n",
    "\n",
    "* Optimal consumption in 6 period model:\n",
    "![github/floswald](../assets/figs/Dchoice_envC.png)"
   ]
  },
  {
   "cell_type": "markdown",
   "metadata": {
    "slideshow": {
     "slide_type": "subslide"
    }
   },
   "source": [
    "### The Problem with Kinks\n",
    "\n",
    "* Relying on fast methods that rely on first order conditions (like euler equation) will fail.\n",
    "* There are multiple zeros in the Euler Equation, and a standard Euler Equation approach is not guaranteed to find the right one.\n",
    "* picture from Fedor Iskhakov's master class at [cemmap 2015](http://www.cemmap.ac.uk/event/id/1213):\n",
    "\n",
    "<img src=\"../assets/figs/fedor-2-cropped.png\" width=\"1000\" height=\"500\"/>\n",
    "\n"
   ]
  },
  {
   "cell_type": "markdown",
   "metadata": {
    "slideshow": {
     "slide_type": "subslide"
    }
   },
   "source": [
    "\n",
    "### DC-EGM Algorithm\n",
    "\n",
    "1. Do the EGM step for each discrete choice $d$\n",
    "1. Compute $d$-specific consumption and value functions\n",
    "1. compare $d$-specific value functions to find optimal switch points\n",
    "1. Build envelope over $d$-specific consumption functions with knowledge of which optimal $d$ applies where."
   ]
  },
  {
   "cell_type": "markdown",
   "metadata": {
    "slideshow": {
     "slide_type": "subslide"
    }
   },
   "source": [
    "### But EGM relies on the Euler Equation?!\n",
    "\n",
    "* Yes.\n",
    "* An important result in [@clausenenvelope] is that the Euler Equation is still the necessary condition for optimal consumption\n",
    "    * Intuition: marginal utility differs greatly at $\\epsilon+\\bar{M}$. \n",
    "    * No economic agent would ever locate **at** $\\bar{M}$.\n",
    "* This is different from saying that a proceedure that tries to find the zeros of the Euler Equation would still work.\n",
    "    * this will pick the wrong solution some times.\n",
    "* EGM finds **all** solutions. \n",
    "    * There is a proceedure to discard the \"wrong ones\". Proof in [@iskhakovRust2014]\n",
    "\n",
    "\n",
    "\n"
   ]
  },
  {
   "cell_type": "markdown",
   "metadata": {
    "slideshow": {
     "slide_type": "subslide"
    }
   },
   "source": [
    "\n",
    "### Adding Shocks\n",
    "\n",
    "* This problem is hard to solve with standard methods.\n",
    "* It is hard, because the only reliable method is VFI, and this is not feasible in large problems.\n",
    "* Adding shocks to non-smooth problems is a widely used remedy.\n",
    "    * think of \"convexifying\" in game theoretic models\n",
    "    * (Add a lottery)\n",
    "    * Also used a lot in macro\n",
    "* Adding shocks does indeed help in the current model.\n",
    "    * We add idiosyncratic taste shocks: Type 1 EV.\n",
    "    * Income uncertainty: \n",
    "    * In general, the more shocks, the more smoothing.\n",
    "* The problem becomes\n",
    "\n",
    "$$\n",
    "\\begin{aligned}\n",
    "V_t(M_t) & = \\max \\left[ v_t(M_t|d_t=0) + \\sigma_\\epsilon \\epsilon_t(0), v_t(M_t|d_t=1) + \\sigma_\\epsilon \\epsilon_t(1)\\right]  \\\\\n",
    "v_t(M_t|d_t=1) & = \\max_{0<c_t<M_t} \\log(c_t) -1 + \\beta \\int E V_{t+1}(R (M_t - c_t) + y\\eta_{t+1})f(d\\eta_{t+1}) \n",
    "\\end{aligned}\n",
    "$$\n",
    "\n",
    "where the value for retirees stays the same.\n",
    "\n",
    "\n"
   ]
  },
  {
   "cell_type": "markdown",
   "metadata": {
    "slideshow": {
     "slide_type": "subslide"
    }
   },
   "source": [
    "### Adding Shocks\n",
    "\n",
    "\n",
    "![[@iskhakovRust2014] figure 2](../assets/figs/fedor-7.png)\n",
    "\n",
    "![[@iskhakovRust2014] figure 4](../assets/figs/fedor-6.png)\n",
    "\n",
    "\n",
    "![[@iskhakovRust2014] figure 4](../assets/figs/fedor-8.png)\n",
    "\n"
   ]
  },
  {
   "cell_type": "markdown",
   "metadata": {},
   "source": [
    "### Full DC-EGM\n",
    "\n",
    "* Needs to discard *false* solutions. \n",
    "* Criterion:    \n",
    "    * grid in $A_t$ is **increasing**\n",
    "    * Assuming concave utility function, the function\n",
    "        $$ A(M|d) = M - c(M|d) $$\n",
    "        is **monotone non-decreasing**\n",
    "    * This means that, if you go through $A_i$, and find that\n",
    "        $$ M_t(A^j) < M_t(A^{j-1}) $$\n",
    "        you know you entered a non-concave region\n",
    "* The Algorithm goes through the upper envelope and *prunes* the *inferior* points $M$ from the endogenous grids.\n",
    "* Precise details of Algorithm in paper.\n",
    "* Julia implementation on [floswald/ConsProb.jl](https://github.com/floswald/ConsProb.jl)\n",
    "\n"
   ]
  }
 ],
 "metadata": {
  "@webio": {
   "lastCommId": null,
   "lastKernelId": null
  },
  "celltoolbar": "Slideshow",
  "kernelspec": {
   "display_name": "Julia 1.5.3",
   "language": "julia",
   "name": "julia-1.5"
  },
  "language_info": {
   "file_extension": ".jl",
   "mimetype": "application/julia",
   "name": "julia",
   "version": "1.5.3"
  }
 },
 "nbformat": 4,
 "nbformat_minor": 1
}
